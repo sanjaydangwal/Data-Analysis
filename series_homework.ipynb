{
 "cells": [
  {
   "cell_type": "markdown",
   "id": "f25a38eb",
   "metadata": {},
   "source": [
    "#### Import pandas with its alias"
   ]
  },
  {
   "cell_type": "code",
   "execution_count": 1,
   "id": "b50fd072",
   "metadata": {},
   "outputs": [],
   "source": [
    "import pandas as pd"
   ]
  },
  {
   "cell_type": "markdown",
   "id": "1c1eb573",
   "metadata": {},
   "source": [
    "#### Load the ```TopRichestInWorld.csv``` file and make 'Name' the index and 'Age' the column"
   ]
  },
  {
   "cell_type": "code",
   "execution_count": 3,
   "id": "2725b262",
   "metadata": {},
   "outputs": [
    {
     "data": {
      "text/plain": [
       "Name\n",
       "Elon Musk                   50\n",
       "Jeff Bezos                  58\n",
       "Bernard Arnault & family    73\n",
       "Bill Gates                  66\n",
       "Warren Buffett              91\n",
       "                            ..\n",
       "Vladimir Potanin            61\n",
       "Harold Hamm & family        76\n",
       "Sun Piaoyang                63\n",
       "Luo Liguo & family          66\n",
       "Peter Woo                   75\n",
       "Name: Age, Length: 101, dtype: int64"
      ]
     },
     "execution_count": 3,
     "metadata": {},
     "output_type": "execute_result"
    }
   ],
   "source": [
    "richest = pd.read_csv(\"TopRichestInWorld.csv\", usecols=[\"Name\", \"Age\"], index_col=\"Name\").squeeze()\n",
    "richest"
   ]
  },
  {
   "cell_type": "markdown",
   "id": "887579c8",
   "metadata": {},
   "source": [
    "#### Which person is the oldest?"
   ]
  },
  {
   "cell_type": "code",
   "execution_count": 4,
   "id": "fed5905a",
   "metadata": {},
   "outputs": [
    {
     "data": {
      "text/plain": [
       "'Lee Shau Kee'"
      ]
     },
     "execution_count": 4,
     "metadata": {},
     "output_type": "execute_result"
    }
   ],
   "source": [
    "richest.idxmax()"
   ]
  },
  {
   "cell_type": "markdown",
   "id": "997a3c61",
   "metadata": {},
   "source": [
    "#### How old is he?"
   ]
  },
  {
   "cell_type": "code",
   "execution_count": 5,
   "id": "79abfe3d",
   "metadata": {},
   "outputs": [
    {
     "data": {
      "text/plain": [
       "np.int64(94)"
      ]
     },
     "execution_count": 5,
     "metadata": {},
     "output_type": "execute_result"
    }
   ],
   "source": [
    "richest[richest.idxmax()]"
   ]
  },
  {
   "cell_type": "markdown",
   "id": "e435a49e",
   "metadata": {},
   "source": [
    "#### Sort the values from the oldest to youngest age to verify"
   ]
  },
  {
   "cell_type": "code",
   "execution_count": 14,
   "id": "897d0c21",
   "metadata": {},
   "outputs": [
    {
     "data": {
      "text/plain": [
       "Name\n",
       "Lee Shau Kee               94\n",
       "Li Ka-shing                93\n",
       "Warren Buffett             91\n",
       "Rupert Murdoch & family    91\n",
       "Leonard Lauder             89\n",
       "                           ..\n",
       "Guillaume Pousaz           40\n",
       "Yang Huiyan & family       40\n",
       "Zhang Yiming               38\n",
       "Mark Zuckerberg            37\n",
       "Sam Bankman-Fried          30\n",
       "Name: Age, Length: 101, dtype: int64"
      ]
     },
     "execution_count": 14,
     "metadata": {},
     "output_type": "execute_result"
    }
   ],
   "source": [
    "richest = richest.sort_values(ascending=False)\n",
    "richest"
   ]
  },
  {
   "cell_type": "markdown",
   "id": "4335d9b1",
   "metadata": {},
   "source": [
    "#### Which person is the youngest?"
   ]
  },
  {
   "cell_type": "code",
   "execution_count": 7,
   "id": "df45b19e",
   "metadata": {},
   "outputs": [
    {
     "data": {
      "text/plain": [
       "'Sam Bankman-Fried'"
      ]
     },
     "execution_count": 7,
     "metadata": {},
     "output_type": "execute_result"
    }
   ],
   "source": [
    "richest.idxmin()"
   ]
  },
  {
   "cell_type": "markdown",
   "id": "1d895389",
   "metadata": {},
   "source": [
    "#### How young is the youngest?"
   ]
  },
  {
   "cell_type": "code",
   "execution_count": 8,
   "id": "560aed7c",
   "metadata": {},
   "outputs": [
    {
     "data": {
      "text/plain": [
       "np.int64(30)"
      ]
     },
     "execution_count": 8,
     "metadata": {},
     "output_type": "execute_result"
    }
   ],
   "source": [
    "richest[richest.idxmin()]"
   ]
  },
  {
   "cell_type": "markdown",
   "id": "ce7dec62",
   "metadata": {},
   "source": [
    "#### What is the average age of all the millionaires? (Round it to 2 decimal places)"
   ]
  },
  {
   "cell_type": "code",
   "execution_count": 21,
   "id": "92acbe42",
   "metadata": {},
   "outputs": [
    {
     "data": {
      "text/plain": [
       "np.float64(67.12)"
      ]
     },
     "execution_count": 21,
     "metadata": {},
     "output_type": "execute_result"
    }
   ],
   "source": [
    "richest.mean().round(2)"
   ]
  },
  {
   "cell_type": "markdown",
   "id": "bc855fe3",
   "metadata": {},
   "source": [
    "#### Save the series as a csv file named: sample.csv"
   ]
  },
  {
   "cell_type": "code",
   "execution_count": 18,
   "id": "d2b3ed70",
   "metadata": {},
   "outputs": [],
   "source": [
    "richest.to_csv(\"sample.csv\")"
   ]
  },
  {
   "cell_type": "markdown",
   "id": "c59410b5",
   "metadata": {},
   "source": [
    "#### Read the csv you just saved"
   ]
  },
  {
   "cell_type": "code",
   "execution_count": 22,
   "id": "a673f042",
   "metadata": {},
   "outputs": [
    {
     "data": {
      "text/plain": [
       "Name\n",
       "Lee Shau Kee               94\n",
       "Li Ka-shing                93\n",
       "Warren Buffett             91\n",
       "Rupert Murdoch & family    91\n",
       "Leonard Lauder             89\n",
       "                           ..\n",
       "Guillaume Pousaz           40\n",
       "Yang Huiyan & family       40\n",
       "Zhang Yiming               38\n",
       "Mark Zuckerberg            37\n",
       "Sam Bankman-Fried          30\n",
       "Name: Age, Length: 101, dtype: int64"
      ]
     },
     "execution_count": 22,
     "metadata": {},
     "output_type": "execute_result"
    }
   ],
   "source": [
    "pd.read_csv(\"sample.csv\", index_col=\"Name\").squeeze()"
   ]
  },
  {
   "cell_type": "code",
   "execution_count": null,
   "id": "271cfbb9",
   "metadata": {},
   "outputs": [],
   "source": []
  }
 ],
 "metadata": {
  "kernelspec": {
   "display_name": "MyEnv",
   "language": "python",
   "name": "python3"
  },
  "language_info": {
   "codemirror_mode": {
    "name": "ipython",
    "version": 3
   },
   "file_extension": ".py",
   "mimetype": "text/x-python",
   "name": "python",
   "nbconvert_exporter": "python",
   "pygments_lexer": "ipython3",
   "version": "3.12.7"
  }
 },
 "nbformat": 4,
 "nbformat_minor": 5
}
